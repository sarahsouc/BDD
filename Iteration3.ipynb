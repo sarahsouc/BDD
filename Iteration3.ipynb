{
 "cells": [
  {
   "cell_type": "markdown",
   "metadata": {},
   "source": [
    "## Importer sql et la BDD"
   ]
  },
  {
   "cell_type": "code",
   "execution_count": 1,
   "metadata": {},
   "outputs": [
    {
     "data": {
      "text/plain": [
       "'/home/sarah.souchon@Digital-Grenoble.local/Sarah/BDD'"
      ]
     },
     "execution_count": 1,
     "metadata": {},
     "output_type": "execute_result"
    }
   ],
   "source": [
    "import sqlite3\n",
    "%pwd"
   ]
  },
  {
   "cell_type": "code",
   "execution_count": 2,
   "metadata": {},
   "outputs": [],
   "source": [
    "import pandas as pd\n",
    "import matplotlib.pyplot as plt\n",
    "import numpy as np"
   ]
  },
  {
   "cell_type": "code",
   "execution_count": 3,
   "metadata": {},
   "outputs": [],
   "source": [
    "# Establish a connection to the SQLite database\n",
    "bbmd = sqlite3.connect('billboard-200.db') #type sqlite3.Connection"
   ]
  },
  {
   "cell_type": "code",
   "execution_count": null,
   "metadata": {},
   "outputs": [],
   "source": []
  },
  {
   "cell_type": "markdown",
   "metadata": {},
   "source": [
    "## Effectuer des requêtes SQL depuis Pytho pour répondre aux questions suivantes:\n",
    "* Effectuez la moyenne par année de la caractéristique \"acousticness\". Quelle est la tendance de cette caractéristique?\n",
    "* Quelle est l'année dont le niveau sonore \"loudness\" a été le plus haut?\n",
    "* Quelle est la clé musicale la plus utilisée - en prenant en compte le mode (e.g. majeur, mineur)?"
   ]
  },
  {
   "cell_type": "code",
   "execution_count": 11,
   "metadata": {},
   "outputs": [
    {
     "name": "stdout",
     "output_type": "stream",
     "text": [
      "                       0                                   1           2   \\\n",
      "0  0Veyvc3n9AcLSoK3r1dA12                   Voices In My Head  Hoodie SZN   \n",
      "1  77JzXZonNumWsuXKy9vr3U                              Beasty  Hoodie SZN   \n",
      "2  18yllZD0TdF7ykcREib8Z1                            I Did It  Hoodie SZN   \n",
      "3  1wJRveJZLSb1rjhnUHQiv6             Swervin (feat. 6ix9ine)  Hoodie SZN   \n",
      "4  0jAfdqv18goRTUxm3ilRjb  Startender (feat. Offset and Tyga)  Hoodie SZN   \n",
      "\n",
      "                       3       4      5         6      7         8    9   \\\n",
      "0  A Boogie Wit da Hoodie  0.0555  0.754  142301.0  0.663  0.000000  6.0   \n",
      "1  A Boogie Wit da Hoodie  0.2920  0.860  152829.0  0.418  0.000000  7.0   \n",
      "2  A Boogie Wit da Hoodie  0.1530  0.718  215305.0  0.454  0.000046  8.0   \n",
      "3  A Boogie Wit da Hoodie  0.0153  0.581  189487.0  0.662  0.000000  9.0   \n",
      "4  A Boogie Wit da Hoodie  0.0235  0.736  192779.0  0.622  0.000000  6.0   \n",
      "\n",
      "      10     11   12     13       14   15     16                      17  \\\n",
      "0  0.101 -6.311  0.0  0.427   90.195  4.0  0.207  3r5hf3Cj3EMh1C2saQ8jyt   \n",
      "1  0.106 -9.061  0.0  0.158  126.023  4.0  0.374  3r5hf3Cj3EMh1C2saQ8jyt   \n",
      "2  0.116 -9.012  1.0  0.127   89.483  4.0  0.196  3r5hf3Cj3EMh1C2saQ8jyt   \n",
      "3  0.111 -5.239  1.0  0.303   93.023  4.0  0.434  3r5hf3Cj3EMh1C2saQ8jyt   \n",
      "4  0.151 -4.653  0.0  0.133  191.971  4.0  0.506  3r5hf3Cj3EMh1C2saQ8jyt   \n",
      "\n",
      "           18  \n",
      "0  2018-12-21  \n",
      "1  2018-12-21  \n",
      "2  2018-12-21  \n",
      "3  2018-12-21  \n",
      "4  2018-12-21  \n"
     ]
    }
   ],
   "source": [
    "#Create a cursor object to access the data\n",
    "cursor = bbmd.cursor()\n",
    "\n",
    "cursor.execute(\"SELECT * FROM acoustic_features\")\n",
    "# Récupération des résultats\n",
    "results = cursor.fetchall()\n",
    "# Création du dataframe\n",
    "df = pd.DataFrame(results)\n",
    "\n",
    "# Affichage du dataframe\n",
    "print(df.head())\n"
   ]
  },
  {
   "cell_type": "code",
   "execution_count": 32,
   "metadata": {},
   "outputs": [
    {
     "name": "stdout",
     "output_type": "stream",
     "text": [
      "         year  avg_acousticness\n",
      "0  1946-01-01          0.900937\n",
      "1  1952-01-01          0.764000\n",
      "2  1956-01-01          0.941574\n",
      "3  1957-10-15          0.839615\n",
      "4  1958-03-21          0.815065\n"
     ]
    },
    {
     "data": {
      "text/html": [
       "<div>\n",
       "<style scoped>\n",
       "    .dataframe tbody tr th:only-of-type {\n",
       "        vertical-align: middle;\n",
       "    }\n",
       "\n",
       "    .dataframe tbody tr th {\n",
       "        vertical-align: top;\n",
       "    }\n",
       "\n",
       "    .dataframe thead th {\n",
       "        text-align: right;\n",
       "    }\n",
       "</style>\n",
       "<table border=\"1\" class=\"dataframe\">\n",
       "  <thead>\n",
       "    <tr style=\"text-align: right;\">\n",
       "      <th></th>\n",
       "      <th>avg_acousticness</th>\n",
       "    </tr>\n",
       "  </thead>\n",
       "  <tbody>\n",
       "    <tr>\n",
       "      <th>count</th>\n",
       "      <td>67.000000</td>\n",
       "    </tr>\n",
       "    <tr>\n",
       "      <th>mean</th>\n",
       "      <td>0.386420</td>\n",
       "    </tr>\n",
       "    <tr>\n",
       "      <th>std</th>\n",
       "      <td>0.188991</td>\n",
       "    </tr>\n",
       "    <tr>\n",
       "      <th>min</th>\n",
       "      <td>0.214286</td>\n",
       "    </tr>\n",
       "    <tr>\n",
       "      <th>25%</th>\n",
       "      <td>0.265757</td>\n",
       "    </tr>\n",
       "    <tr>\n",
       "      <th>50%</th>\n",
       "      <td>0.286757</td>\n",
       "    </tr>\n",
       "    <tr>\n",
       "      <th>75%</th>\n",
       "      <td>0.450523</td>\n",
       "    </tr>\n",
       "    <tr>\n",
       "      <th>max</th>\n",
       "      <td>0.941574</td>\n",
       "    </tr>\n",
       "  </tbody>\n",
       "</table>\n",
       "</div>"
      ],
      "text/plain": [
       "       avg_acousticness\n",
       "count         67.000000\n",
       "mean           0.386420\n",
       "std            0.188991\n",
       "min            0.214286\n",
       "25%            0.265757\n",
       "50%            0.286757\n",
       "75%            0.450523\n",
       "max            0.941574"
      ]
     },
     "execution_count": 32,
     "metadata": {},
     "output_type": "execute_result"
    }
   ],
   "source": [
    "###Effectuez la moyenne par année de la caractéristique \"acousticness\". \n",
    "query = \"\"\"SELECT date, AVG(acousticness) AS avg_acousticness \n",
    "FROM acoustic_features \n",
    "GROUP BY strftime('%Y', date) \n",
    "ORDER BY date\n",
    "\"\"\"\n",
    "cursor.execute(query)\n",
    "# Récupération des résultats\n",
    "results = cursor.fetchall()\n",
    "# Création du dataframe\n",
    "df = pd.DataFrame(results, columns=['year', 'avg_acousticness'])\n",
    "# Affichage du dataframe\n",
    "print(df.head())\n",
    "\n",
    "###Quelle est la tendance de cette caractéristique?\n",
    "df.describe()\n"
   ]
  },
  {
   "cell_type": "markdown",
   "metadata": {},
   "source": [
    "### Effectuez la moyenne par année de la caractéristique \"acousticness\". Quelle est la tendance de cette caractéristique?"
   ]
  },
  {
   "cell_type": "code",
   "execution_count": 33,
   "metadata": {},
   "outputs": [
    {
     "name": "stdout",
     "output_type": "stream",
     "text": [
      "[(0.29880584830833323,)]\n"
     ]
    }
   ],
   "source": [
    "#Mean acousticness by nb lines\n",
    "query=\"\"\"\n",
    "SELECT SUM(acousticness)/count(acousticness) \n",
    "FROM acoustic_features\n",
    "\"\"\"\n",
    "cursor.execute(query)\n",
    "print(cursor.fetchall())"
   ]
  },
  {
   "cell_type": "code",
   "execution_count": 18,
   "metadata": {},
   "outputs": [
    {
     "name": "stdout",
     "output_type": "stream",
     "text": [
      "[(0.000407, '1900'), (0.839, '1933'), (0.347, '1941'), (0.92, '1944'), (0.88, '1946'), (0.799, '1947'), (0.839, '1948'), (0.968, '1952'), (0.518, '1956'), (0.727, '1957'), (0.733, '1958'), (0.807, '1959'), (0.808, '1960'), (0.971, '1961'), (0.92, '1962'), (0.798, '1963'), (0.108, '1964'), (0.908, '1965'), (0.702, '1966'), (0.0857, '1967'), (0.069, '1968'), (0.0302, '1969'), (0.35, '1970'), (0.262, '1971'), (0.721, '1972'), (0.362, '1973'), (0.33, '1974'), (0.00177, '1975'), (0.343, '1976'), (0.214, '1977'), (0.881, '1978'), (0.0273, '1979'), (0.00532, '1980'), (0.501, '1981'), (0.0219, '1982'), (0.000486, '1983'), (0.0192, '1984'), (0.424, '1985'), (0.743, '1986'), (0.0326, '1987'), (0.111, '1988'), (0.219, '1989'), (0.895, '1990'), (0.00206, '1991'), (0.175, '1992'), (0.692, '1993'), (0.0273, '1994'), (0.334, '1995'), (0.919, '1996'), (0.00213, '1997'), (0.134, '1998'), (0.895, '1999'), (0.404, '2000'), (0.562, '2001'), (0.119, '2002'), (0.0168, '2003'), (0.0258, '2004'), (0.14, '2005'), (0.0127, '2006'), (0.483, '2007'), (0.452, '2008'), (0.977, '2009'), (0.146, '2010'), (0.759, '2011'), (0.106, '2012'), (0.545, '2013'), (0.038, '2014'), (0.524, '2015'), (0.289, '2016'), (0.353, '2017'), (0.0555, '2018'), (0.0662, '2019')]\n"
     ]
    }
   ],
   "source": [
    "#Mean acousticness by year\n",
    "query=\"\"\"\n",
    "SELECT acousticness, substr(date,1,4)\n",
    "FROM acoustic_features\n",
    "GROUP BY substr(date,1,4)\n",
    "\"\"\"\n",
    "cursor.execute(query)\n",
    "print(cursor.fetchall())"
   ]
  },
  {
   "cell_type": "code",
   "execution_count": 34,
   "metadata": {},
   "outputs": [
    {
     "name": "stdout",
     "output_type": "stream",
     "text": [
      "[(72,)]\n"
     ]
    }
   ],
   "source": [
    "#Count nb of Distinct feature for date as control\n",
    "query=\"\"\"\n",
    "SELECT count(DISTINCT(substr(date,1,4))) \n",
    "FROM acoustic_features\n",
    "\"\"\"\n",
    "cursor.execute(query)\n",
    "print(cursor.fetchall())"
   ]
  },
  {
   "cell_type": "code",
   "execution_count": 20,
   "metadata": {},
   "outputs": [
    {
     "data": {
      "image/png": "[encoded data removed]",
      "text/plain": [
       "<Figure size 640x480 with 1 Axes>"
      ]
     },
     "metadata": {},
     "output_type": "display_data"
    }
   ],
   "source": [
    "#Tendance\n",
    "query = '''SELECT DISTINCT SUBSTR(date, 1, 4) as Annee, AVG(acousticness) as AVG_acousticness\n",
    "            FROM acoustic_features\n",
    "            GROUP BY SUBSTR(date, 1, 4)\n",
    "            ORDER BY SUBSTR(date, 1, 4)'''\n",
    "cursor.execute(query)\n",
    "test=cursor.fetchall()\n",
    "x = []\n",
    "y = []\n",
    "for row in test:\n",
    "    x.append(row[0])\n",
    "    y.append(row[1])\n",
    "plt.plot(x, y);"
   ]
  },
  {
   "cell_type": "code",
   "execution_count": 21,
   "metadata": {
    "scrolled": true
   },
   "outputs": [
    {
     "data": {
      "text/plain": [
       "<Axes: xlabel='Annee'>"
      ]
     },
     "execution_count": 21,
     "metadata": {},
     "output_type": "execute_result"
    },
    {
     "data": {
      "image/png": "[encoded data removed]",
      "text/plain": [
       "<Figure size 640x480 with 1 Axes>"
      ]
     },
     "metadata": {},
     "output_type": "display_data"
    }
   ],
   "source": [
    "moy_acous_an = pd.read_sql_query(query, bbmd)\n",
    "moy_acous_an.set_index('Annee').plot()"
   ]
  },
  {
   "cell_type": "markdown",
   "metadata": {},
   "source": [
    "### Quelle est l'année dont le niveau sonore \"loudness\" a été le plus haut?"
   ]
  },
  {
   "cell_type": "code",
   "execution_count": 22,
   "metadata": {},
   "outputs": [
    {
     "data": {
      "text/plain": [
       "(-3.686, '2012')"
      ]
     },
     "execution_count": 22,
     "metadata": {},
     "output_type": "execute_result"
    }
   ],
   "source": [
    "#Année dont le niveau sonore \"loudness\" cumulé a été le plus haut\n",
    "query=\"\"\"\n",
    "SELECT loudness, substr(date,1,4)\n",
    "FROM acoustic_features\n",
    "GROUP BY substr(date,1,4)\n",
    "\"\"\"\n",
    "loudness_sumbyyear=list(cursor.execute(query))\n",
    "max(loudness_sumbyyear)"
   ]
  },
  {
   "cell_type": "code",
   "execution_count": 26,
   "metadata": {},
   "outputs": [
    {
     "data": {
      "text/plain": [
       "(3.744, '1973')"
      ]
     },
     "execution_count": 26,
     "metadata": {},
     "output_type": "execute_result"
    }
   ],
   "source": [
    "#Année dont le niveau sonore \"loudness\" a été le plus haut pour une donnée\n",
    "query=\"\"\"\n",
    "SELECT max(loudness), substr(date,1,4)\n",
    "FROM acoustic_features\n",
    "GROUP BY substr(date,1,4)\n",
    "\"\"\"\n",
    "loudness_suminyear=list(cursor.execute(query))\n",
    "max(loudness_suminyear)"
   ]
  },
  {
   "cell_type": "code",
   "execution_count": 23,
   "metadata": {},
   "outputs": [
    {
     "data": {
      "text/plain": [
       "(-116.75199999999998, '1900')"
      ]
     },
     "execution_count": 23,
     "metadata": {},
     "output_type": "execute_result"
    }
   ],
   "source": [
    "#Année dont le niveau sonore \"loudness\" cumulé a été le plus haut\n",
    "query=\"\"\"\n",
    "SELECT sum(loudness), substr(date,1,4)\n",
    "FROM acoustic_features\n",
    "GROUP BY substr(date,1,4)\n",
    "\"\"\"\n",
    "loudness_sumforyear=list(cursor.execute(query))\n",
    "max(loudness_sumforyear)"
   ]
  },
  {
   "cell_type": "code",
   "execution_count": 24,
   "metadata": {},
   "outputs": [
    {
     "data": {
      "text/plain": [
       "(-3.686,)"
      ]
     },
     "execution_count": 24,
     "metadata": {},
     "output_type": "execute_result"
    }
   ],
   "source": [
    "query=\"\"\"\n",
    "SELECT loudness\n",
    "FROM acoustic_features\n",
    "GROUP BY substr(date,1,4)\n",
    "\"\"\"\n",
    "loudness_year_gb=list(cursor.execute(query))\n",
    "max(loudness_year_gb)"
   ]
  },
  {
   "cell_type": "code",
   "execution_count": 25,
   "metadata": {},
   "outputs": [
    {
     "name": "stdout",
     "output_type": "stream",
     "text": [
      "[(-7.381286924393974, '2010')]\n"
     ]
    }
   ],
   "source": [
    "#Vrai résultat\n",
    "query= \"\"\"\n",
    "SELECT MAX(loudness_byyear), year FROM\n",
    "(SELECT AVG(loudness) as loudness_byyear, SUBSTR(date,1,4) as year\n",
    "FROM acoustic_features\n",
    "GROUP BY year\n",
    "ORDER BY year)\"\"\"\n",
    "cursor.execute(query)\n",
    "print(cursor.fetchall())"
   ]
  },
  {
   "cell_type": "code",
   "execution_count": null,
   "metadata": {},
   "outputs": [],
   "source": []
  },
  {
   "cell_type": "markdown",
   "metadata": {},
   "source": [
    "### Quelle est la clé musicale la plus utilisée - en prenant en compte le mode (e.g. majeur, mineur)?"
   ]
  },
  {
   "cell_type": "code",
   "execution_count": 26,
   "metadata": {},
   "outputs": [
    {
     "data": {
      "text/html": [
       "<div>\n",
       "<style scoped>\n",
       "    .dataframe tbody tr th:only-of-type {\n",
       "        vertical-align: middle;\n",
       "    }\n",
       "\n",
       "    .dataframe tbody tr th {\n",
       "        vertical-align: top;\n",
       "    }\n",
       "\n",
       "    .dataframe thead th {\n",
       "        text-align: right;\n",
       "    }\n",
       "</style>\n",
       "<table border=\"1\" class=\"dataframe\">\n",
       "  <thead>\n",
       "    <tr style=\"text-align: right;\">\n",
       "      <th></th>\n",
       "      <th>keys</th>\n",
       "      <th>pitches</th>\n",
       "    </tr>\n",
       "  </thead>\n",
       "  <tbody>\n",
       "    <tr>\n",
       "      <th>0</th>\n",
       "      <td>0</td>\n",
       "      <td>C, B♯</td>\n",
       "    </tr>\n",
       "    <tr>\n",
       "      <th>1</th>\n",
       "      <td>1</td>\n",
       "      <td>C♯, D♭</td>\n",
       "    </tr>\n",
       "    <tr>\n",
       "      <th>2</th>\n",
       "      <td>2</td>\n",
       "      <td>D</td>\n",
       "    </tr>\n",
       "    <tr>\n",
       "      <th>3</th>\n",
       "      <td>3</td>\n",
       "      <td>D♯, E♭</td>\n",
       "    </tr>\n",
       "    <tr>\n",
       "      <th>4</th>\n",
       "      <td>4</td>\n",
       "      <td>E</td>\n",
       "    </tr>\n",
       "    <tr>\n",
       "      <th>5</th>\n",
       "      <td>5</td>\n",
       "      <td>F</td>\n",
       "    </tr>\n",
       "    <tr>\n",
       "      <th>6</th>\n",
       "      <td>6</td>\n",
       "      <td>F♯, G♭</td>\n",
       "    </tr>\n",
       "    <tr>\n",
       "      <th>7</th>\n",
       "      <td>7</td>\n",
       "      <td>G</td>\n",
       "    </tr>\n",
       "    <tr>\n",
       "      <th>8</th>\n",
       "      <td>8</td>\n",
       "      <td>G♯, A♭</td>\n",
       "    </tr>\n",
       "    <tr>\n",
       "      <th>9</th>\n",
       "      <td>9</td>\n",
       "      <td>A</td>\n",
       "    </tr>\n",
       "    <tr>\n",
       "      <th>10</th>\n",
       "      <td>10</td>\n",
       "      <td>A♯, B♭</td>\n",
       "    </tr>\n",
       "    <tr>\n",
       "      <th>11</th>\n",
       "      <td>11</td>\n",
       "      <td>B</td>\n",
       "    </tr>\n",
       "  </tbody>\n",
       "</table>\n",
       "</div>"
      ],
      "text/plain": [
       "    keys pitches\n",
       "0      0   C, B♯\n",
       "1      1  C♯, D♭\n",
       "2      2       D\n",
       "3      3  D♯, E♭\n",
       "4      4       E\n",
       "5      5       F\n",
       "6      6  F♯, G♭\n",
       "7      7       G\n",
       "8      8  G♯, A♭\n",
       "9      9       A\n",
       "10    10  A♯, B♭\n",
       "11    11       B"
      ]
     },
     "execution_count": 26,
     "metadata": {},
     "output_type": "execute_result"
    }
   ],
   "source": [
    "#https://en.wikipedia.org/wiki/Pitch_class\n",
    "pitches = ['C, B♯', 'C♯, D♭', 'D', 'D♯, E♭', 'E', 'F', 'F♯, G♭', 'G', 'G♯, A♭', 'A', 'A♯, B♭', 'B' ]\n",
    "keys = [0,1,2,3,4,5,6,7,8,9,10,11]\n",
    "pk= {'keys':[0,1,2,3,4,5,6,7,8,9,10,11],'pitches':['C, B♯', 'C♯, D♭', 'D', 'D♯, E♭', 'E', 'F', 'F♯, G♭', 'G', 'G♯, A♭', 'A', 'A♯, B♭', 'B' ]}\n",
    "df_pk= pd.DataFrame(data=pk)\n",
    "df_pk"
   ]
  },
  {
   "cell_type": "code",
   "execution_count": 27,
   "metadata": {
    "scrolled": true
   },
   "outputs": [
    {
     "data": {
      "text/html": [
       "<div>\n",
       "<style scoped>\n",
       "    .dataframe tbody tr th:only-of-type {\n",
       "        vertical-align: middle;\n",
       "    }\n",
       "\n",
       "    .dataframe tbody tr th {\n",
       "        vertical-align: top;\n",
       "    }\n",
       "\n",
       "    .dataframe thead th {\n",
       "        text-align: right;\n",
       "    }\n",
       "</style>\n",
       "<table border=\"1\" class=\"dataframe\">\n",
       "  <thead>\n",
       "    <tr style=\"text-align: right;\">\n",
       "      <th></th>\n",
       "      <th>keys</th>\n",
       "      <th>count(key)</th>\n",
       "      <th>mode</th>\n",
       "    </tr>\n",
       "  </thead>\n",
       "  <tbody>\n",
       "    <tr>\n",
       "      <th>1</th>\n",
       "      <td>0.0</td>\n",
       "      <td>41103</td>\n",
       "      <td>1.0</td>\n",
       "    </tr>\n",
       "    <tr>\n",
       "      <th>2</th>\n",
       "      <td>1.0</td>\n",
       "      <td>29207</td>\n",
       "      <td>0.0</td>\n",
       "    </tr>\n",
       "    <tr>\n",
       "      <th>3</th>\n",
       "      <td>2.0</td>\n",
       "      <td>39098</td>\n",
       "      <td>0.0</td>\n",
       "    </tr>\n",
       "    <tr>\n",
       "      <th>4</th>\n",
       "      <td>3.0</td>\n",
       "      <td>10399</td>\n",
       "      <td>0.0</td>\n",
       "    </tr>\n",
       "    <tr>\n",
       "      <th>5</th>\n",
       "      <td>4.0</td>\n",
       "      <td>27185</td>\n",
       "      <td>0.0</td>\n",
       "    </tr>\n",
       "    <tr>\n",
       "      <th>6</th>\n",
       "      <td>5.0</td>\n",
       "      <td>27829</td>\n",
       "      <td>0.0</td>\n",
       "    </tr>\n",
       "    <tr>\n",
       "      <th>7</th>\n",
       "      <td>6.0</td>\n",
       "      <td>19532</td>\n",
       "      <td>0.0</td>\n",
       "    </tr>\n",
       "    <tr>\n",
       "      <th>8</th>\n",
       "      <td>7.0</td>\n",
       "      <td>42139</td>\n",
       "      <td>0.0</td>\n",
       "    </tr>\n",
       "    <tr>\n",
       "      <th>9</th>\n",
       "      <td>8.0</td>\n",
       "      <td>19144</td>\n",
       "      <td>1.0</td>\n",
       "    </tr>\n",
       "    <tr>\n",
       "      <th>10</th>\n",
       "      <td>9.0</td>\n",
       "      <td>37738</td>\n",
       "      <td>1.0</td>\n",
       "    </tr>\n",
       "    <tr>\n",
       "      <th>11</th>\n",
       "      <td>10.0</td>\n",
       "      <td>22027</td>\n",
       "      <td>0.0</td>\n",
       "    </tr>\n",
       "    <tr>\n",
       "      <th>12</th>\n",
       "      <td>11.0</td>\n",
       "      <td>24449</td>\n",
       "      <td>0.0</td>\n",
       "    </tr>\n",
       "  </tbody>\n",
       "</table>\n",
       "</div>"
      ],
      "text/plain": [
       "    keys  count(key)  mode\n",
       "1    0.0       41103   1.0\n",
       "2    1.0       29207   0.0\n",
       "3    2.0       39098   0.0\n",
       "4    3.0       10399   0.0\n",
       "5    4.0       27185   0.0\n",
       "6    5.0       27829   0.0\n",
       "7    6.0       19532   0.0\n",
       "8    7.0       42139   0.0\n",
       "9    8.0       19144   1.0\n",
       "10   9.0       37738   1.0\n",
       "11  10.0       22027   0.0\n",
       "12  11.0       24449   0.0"
      ]
     },
     "execution_count": 27,
     "metadata": {},
     "output_type": "execute_result"
    }
   ],
   "source": [
    "query=\"\"\"\n",
    "SELECT key, count(key), mode\n",
    "FROM acoustic_features\n",
    "GROUP BY key\n",
    "ORDER BY key asc\n",
    "\"\"\"\n",
    "key_list=pd.DataFrame(cursor.execute(query))\n",
    "key_list=key_list[1:]\n",
    "key_list.columns=['keys','count(key)','mode']\n",
    "key_list"
   ]
  },
  {
   "cell_type": "code",
   "execution_count": 28,
   "metadata": {},
   "outputs": [
    {
     "data": {
      "text/html": [
       "<div>\n",
       "<style scoped>\n",
       "    .dataframe tbody tr th:only-of-type {\n",
       "        vertical-align: middle;\n",
       "    }\n",
       "\n",
       "    .dataframe tbody tr th {\n",
       "        vertical-align: top;\n",
       "    }\n",
       "\n",
       "    .dataframe thead th {\n",
       "        text-align: right;\n",
       "    }\n",
       "</style>\n",
       "<table border=\"1\" class=\"dataframe\">\n",
       "  <thead>\n",
       "    <tr style=\"text-align: right;\">\n",
       "      <th></th>\n",
       "      <th>keys</th>\n",
       "      <th>pitches</th>\n",
       "      <th>count(key)</th>\n",
       "      <th>mode</th>\n",
       "    </tr>\n",
       "  </thead>\n",
       "  <tbody>\n",
       "    <tr>\n",
       "      <th>0</th>\n",
       "      <td>0</td>\n",
       "      <td>C, B♯</td>\n",
       "      <td>41103</td>\n",
       "      <td>1.0</td>\n",
       "    </tr>\n",
       "    <tr>\n",
       "      <th>1</th>\n",
       "      <td>1</td>\n",
       "      <td>C♯, D♭</td>\n",
       "      <td>29207</td>\n",
       "      <td>0.0</td>\n",
       "    </tr>\n",
       "    <tr>\n",
       "      <th>2</th>\n",
       "      <td>2</td>\n",
       "      <td>D</td>\n",
       "      <td>39098</td>\n",
       "      <td>0.0</td>\n",
       "    </tr>\n",
       "    <tr>\n",
       "      <th>3</th>\n",
       "      <td>3</td>\n",
       "      <td>D♯, E♭</td>\n",
       "      <td>10399</td>\n",
       "      <td>0.0</td>\n",
       "    </tr>\n",
       "    <tr>\n",
       "      <th>4</th>\n",
       "      <td>4</td>\n",
       "      <td>E</td>\n",
       "      <td>27185</td>\n",
       "      <td>0.0</td>\n",
       "    </tr>\n",
       "    <tr>\n",
       "      <th>5</th>\n",
       "      <td>5</td>\n",
       "      <td>F</td>\n",
       "      <td>27829</td>\n",
       "      <td>0.0</td>\n",
       "    </tr>\n",
       "    <tr>\n",
       "      <th>6</th>\n",
       "      <td>6</td>\n",
       "      <td>F♯, G♭</td>\n",
       "      <td>19532</td>\n",
       "      <td>0.0</td>\n",
       "    </tr>\n",
       "    <tr>\n",
       "      <th>7</th>\n",
       "      <td>7</td>\n",
       "      <td>G</td>\n",
       "      <td>42139</td>\n",
       "      <td>0.0</td>\n",
       "    </tr>\n",
       "    <tr>\n",
       "      <th>8</th>\n",
       "      <td>8</td>\n",
       "      <td>G♯, A♭</td>\n",
       "      <td>19144</td>\n",
       "      <td>1.0</td>\n",
       "    </tr>\n",
       "    <tr>\n",
       "      <th>9</th>\n",
       "      <td>9</td>\n",
       "      <td>A</td>\n",
       "      <td>37738</td>\n",
       "      <td>1.0</td>\n",
       "    </tr>\n",
       "    <tr>\n",
       "      <th>10</th>\n",
       "      <td>10</td>\n",
       "      <td>A♯, B♭</td>\n",
       "      <td>22027</td>\n",
       "      <td>0.0</td>\n",
       "    </tr>\n",
       "    <tr>\n",
       "      <th>11</th>\n",
       "      <td>11</td>\n",
       "      <td>B</td>\n",
       "      <td>24449</td>\n",
       "      <td>0.0</td>\n",
       "    </tr>\n",
       "  </tbody>\n",
       "</table>\n",
       "</div>"
      ],
      "text/plain": [
       "    keys pitches  count(key)  mode\n",
       "0      0   C, B♯       41103   1.0\n",
       "1      1  C♯, D♭       29207   0.0\n",
       "2      2       D       39098   0.0\n",
       "3      3  D♯, E♭       10399   0.0\n",
       "4      4       E       27185   0.0\n",
       "5      5       F       27829   0.0\n",
       "6      6  F♯, G♭       19532   0.0\n",
       "7      7       G       42139   0.0\n",
       "8      8  G♯, A♭       19144   1.0\n",
       "9      9       A       37738   1.0\n",
       "10    10  A♯, B♭       22027   0.0\n",
       "11    11       B       24449   0.0"
      ]
     },
     "execution_count": 28,
     "metadata": {},
     "output_type": "execute_result"
    }
   ],
   "source": [
    "#Merge dataframes des keys/notes et résultats des counts\n",
    "key_compare= pd.merge(df_pk,key_list)\n",
    "key_compare"
   ]
  },
  {
   "cell_type": "code",
   "execution_count": 29,
   "metadata": {},
   "outputs": [
    {
     "data": {
      "text/plain": [
       "[(None, 0, None), (6, 100018, 0), (8, 239832, 1)]"
      ]
     },
     "execution_count": 29,
     "metadata": {},
     "output_type": "execute_result"
    }
   ],
   "source": [
    "#major=1 minor=0\n",
    "query=\"\"\"\n",
    "SELECT key, count(mode), mode\n",
    "FROM acoustic_features\n",
    "GROUP BY mode\n",
    "\"\"\"\n",
    "key_mode=list(cursor.execute(query))\n",
    "key_mode"
   ]
  },
  {
   "cell_type": "code",
   "execution_count": 30,
   "metadata": {},
   "outputs": [
    {
     "data": {
      "text/html": [
       "<div>\n",
       "<style scoped>\n",
       "    .dataframe tbody tr th:only-of-type {\n",
       "        vertical-align: middle;\n",
       "    }\n",
       "\n",
       "    .dataframe tbody tr th {\n",
       "        vertical-align: top;\n",
       "    }\n",
       "\n",
       "    .dataframe thead th {\n",
       "        text-align: right;\n",
       "    }\n",
       "</style>\n",
       "<table border=\"1\" class=\"dataframe\">\n",
       "  <thead>\n",
       "    <tr style=\"text-align: right;\">\n",
       "      <th></th>\n",
       "      <th>Mode</th>\n",
       "      <th>Key</th>\n",
       "      <th>count(key)</th>\n",
       "    </tr>\n",
       "  </thead>\n",
       "  <tbody>\n",
       "    <tr>\n",
       "      <th>1</th>\n",
       "      <td>1.0</td>\n",
       "      <td>0.0</td>\n",
       "      <td>41103</td>\n",
       "    </tr>\n",
       "    <tr>\n",
       "      <th>2</th>\n",
       "      <td>0.0</td>\n",
       "      <td>1.0</td>\n",
       "      <td>29207</td>\n",
       "    </tr>\n",
       "    <tr>\n",
       "      <th>3</th>\n",
       "      <td>0.0</td>\n",
       "      <td>2.0</td>\n",
       "      <td>39098</td>\n",
       "    </tr>\n",
       "    <tr>\n",
       "      <th>4</th>\n",
       "      <td>0.0</td>\n",
       "      <td>3.0</td>\n",
       "      <td>10399</td>\n",
       "    </tr>\n",
       "    <tr>\n",
       "      <th>5</th>\n",
       "      <td>0.0</td>\n",
       "      <td>4.0</td>\n",
       "      <td>27185</td>\n",
       "    </tr>\n",
       "    <tr>\n",
       "      <th>6</th>\n",
       "      <td>0.0</td>\n",
       "      <td>5.0</td>\n",
       "      <td>27829</td>\n",
       "    </tr>\n",
       "    <tr>\n",
       "      <th>7</th>\n",
       "      <td>0.0</td>\n",
       "      <td>6.0</td>\n",
       "      <td>19532</td>\n",
       "    </tr>\n",
       "    <tr>\n",
       "      <th>8</th>\n",
       "      <td>0.0</td>\n",
       "      <td>7.0</td>\n",
       "      <td>42139</td>\n",
       "    </tr>\n",
       "    <tr>\n",
       "      <th>9</th>\n",
       "      <td>1.0</td>\n",
       "      <td>8.0</td>\n",
       "      <td>19144</td>\n",
       "    </tr>\n",
       "    <tr>\n",
       "      <th>10</th>\n",
       "      <td>1.0</td>\n",
       "      <td>9.0</td>\n",
       "      <td>37738</td>\n",
       "    </tr>\n",
       "    <tr>\n",
       "      <th>11</th>\n",
       "      <td>0.0</td>\n",
       "      <td>10.0</td>\n",
       "      <td>22027</td>\n",
       "    </tr>\n",
       "    <tr>\n",
       "      <th>12</th>\n",
       "      <td>0.0</td>\n",
       "      <td>11.0</td>\n",
       "      <td>24449</td>\n",
       "    </tr>\n",
       "  </tbody>\n",
       "</table>\n",
       "</div>"
      ],
      "text/plain": [
       "    Mode   Key  count(key)\n",
       "1    1.0   0.0       41103\n",
       "2    0.0   1.0       29207\n",
       "3    0.0   2.0       39098\n",
       "4    0.0   3.0       10399\n",
       "5    0.0   4.0       27185\n",
       "6    0.0   5.0       27829\n",
       "7    0.0   6.0       19532\n",
       "8    0.0   7.0       42139\n",
       "9    1.0   8.0       19144\n",
       "10   1.0   9.0       37738\n",
       "11   0.0  10.0       22027\n",
       "12   0.0  11.0       24449"
      ]
     },
     "execution_count": 30,
     "metadata": {},
     "output_type": "execute_result"
    }
   ],
   "source": [
    "#test major vs minor --> Key\n",
    "query=\"\"\"\n",
    "SELECT mode, key, count(key)\n",
    "FROM acoustic_features\n",
    "GROUP BY key\n",
    "\"\"\"\n",
    "key_mode=pd.DataFrame(cursor.execute(query))\n",
    "key_mode=key_mode[1:]\n",
    "key_mode.columns=['Mode','Key','count(key)']\n",
    "key_mode"
   ]
  },
  {
   "cell_type": "code",
   "execution_count": 138,
   "metadata": {},
   "outputs": [
    {
     "data": {
      "text/html": [
       "<div>\n",
       "<style scoped>\n",
       "    .dataframe tbody tr th:only-of-type {\n",
       "        vertical-align: middle;\n",
       "    }\n",
       "\n",
       "    .dataframe tbody tr th {\n",
       "        vertical-align: top;\n",
       "    }\n",
       "\n",
       "    .dataframe thead th {\n",
       "        text-align: right;\n",
       "    }\n",
       "</style>\n",
       "<table border=\"1\" class=\"dataframe\">\n",
       "  <thead>\n",
       "    <tr style=\"text-align: right;\">\n",
       "      <th></th>\n",
       "      <th>Mode</th>\n",
       "      <th>Key</th>\n",
       "      <th>count(key)</th>\n",
       "    </tr>\n",
       "  </thead>\n",
       "  <tbody>\n",
       "    <tr>\n",
       "      <td>1</td>\n",
       "      <td>minor</td>\n",
       "      <td>6.0</td>\n",
       "      <td>100018</td>\n",
       "    </tr>\n",
       "    <tr>\n",
       "      <td>2</td>\n",
       "      <td>major</td>\n",
       "      <td>8.0</td>\n",
       "      <td>239832</td>\n",
       "    </tr>\n",
       "  </tbody>\n",
       "</table>\n",
       "</div>"
      ],
      "text/plain": [
       "    Mode  Key  count(key)\n",
       "1  minor  6.0      100018\n",
       "2  major  8.0      239832"
      ]
     },
     "execution_count": 138,
     "metadata": {},
     "output_type": "execute_result"
    }
   ],
   "source": [
    "#test major vs minor --> Key\n",
    "query=\"\"\"\n",
    "SELECT (CASE WHEN mode=1.0 then \"major\" ELSE \"minor\"END), key, count(key)\n",
    "FROM acoustic_features\n",
    "GROUP BY Mode\n",
    "\"\"\"\n",
    "key_mode=pd.DataFrame(cursor.execute(query))\n",
    "key_mode=key_mode[1:]\n",
    "key_mode.columns=['Mode','Key','count(key)']\n",
    "key_mode #df"
   ]
  },
  {
   "cell_type": "code",
   "execution_count": 157,
   "metadata": {},
   "outputs": [
    {
     "data": {
      "text/html": [
       "<div>\n",
       "<style scoped>\n",
       "    .dataframe tbody tr th:only-of-type {\n",
       "        vertical-align: middle;\n",
       "    }\n",
       "\n",
       "    .dataframe tbody tr th {\n",
       "        vertical-align: top;\n",
       "    }\n",
       "\n",
       "    .dataframe thead th {\n",
       "        text-align: right;\n",
       "    }\n",
       "</style>\n",
       "<table border=\"1\" class=\"dataframe\">\n",
       "  <thead>\n",
       "    <tr style=\"text-align: right;\">\n",
       "      <th></th>\n",
       "      <th>Mode</th>\n",
       "      <th>Key</th>\n",
       "      <th>count(key)</th>\n",
       "      <th>keys</th>\n",
       "      <th>pitches</th>\n",
       "    </tr>\n",
       "  </thead>\n",
       "  <tbody>\n",
       "    <tr>\n",
       "      <td>1</td>\n",
       "      <td>minor</td>\n",
       "      <td>6.0</td>\n",
       "      <td>100018</td>\n",
       "      <td>1</td>\n",
       "      <td>C♯, D♭</td>\n",
       "    </tr>\n",
       "    <tr>\n",
       "      <td>2</td>\n",
       "      <td>major</td>\n",
       "      <td>8.0</td>\n",
       "      <td>239832</td>\n",
       "      <td>2</td>\n",
       "      <td>D</td>\n",
       "    </tr>\n",
       "  </tbody>\n",
       "</table>\n",
       "</div>"
      ],
      "text/plain": [
       "    Mode  Key  count(key)  keys pitches\n",
       "1  minor  6.0      100018     1  C♯, D♭\n",
       "2  major  8.0      239832     2       D"
      ]
     },
     "execution_count": 157,
     "metadata": {},
     "output_type": "execute_result"
    }
   ],
   "source": [
    "pk= {'keys':[0,1,2,3,4,5,6,7,8,9,10,11],'pitches':['C, B♯', 'C♯, D♭', 'D', 'D♯, E♭', 'E', 'F', 'F♯, G♭', 'G', 'G♯, A♭', 'A', 'A♯, B♭', 'B' ]}\n",
    "df_pk= pd.DataFrame(data=pk)\n",
    "test=pd.concat([key_mode,df_pk],axis=1,join='inner')\n",
    "test"
   ]
  },
  {
   "cell_type": "code",
   "execution_count": null,
   "metadata": {},
   "outputs": [],
   "source": [
    "result = pd.concat([df1, df4], axis=1, join='inner')"
   ]
  }
 ],
 "metadata": {
  "kernelspec": {
   "display_name": "Python 3 (ipykernel)",
   "language": "python",
   "name": "python3"
  },
  "language_info": {
   "codemirror_mode": {
    "name": "ipython",
    "version": 3
   },
   "file_extension": ".py",
   "mimetype": "text/x-python",
   "name": "python",
   "nbconvert_exporter": "python",
   "pygments_lexer": "ipython3",
   "version": "3.10.9"
  },
  "toc": {
   "base_numbering": 1,
   "nav_menu": {},
   "number_sections": true,
   "sideBar": true,
   "skip_h1_title": false,
   "title_cell": "Table of Contents",
   "title_sidebar": "Contents",
   "toc_cell": false,
   "toc_position": {},
   "toc_section_display": true,
   "toc_window_display": false
  }
 },
 "nbformat": 4,
 "nbformat_minor": 2
}
